{
 "cells": [
  {
   "cell_type": "code",
   "execution_count": 3,
   "metadata": {},
   "outputs": [
    {
     "name": "stdout",
     "output_type": "stream",
     "text": [
      "Loading dataset...\n"
     ]
    }
   ],
   "source": [
    "import pandas as pd\n",
    "\n",
    "from saga.experiment.ml import load_dataset\n",
    "\n",
    "data = load_dataset(cache=True)"
   ]
  },
  {
   "cell_type": "code",
   "execution_count": 4,
   "metadata": {},
   "outputs": [
    {
     "data": {
      "text/plain": [
       "{'instance': 0,\n",
       " 'task_graph': <networkx.classes.digraph.DiGraph at 0x7f37b5f9b910>,\n",
       " 'network': <networkx.classes.graph.Graph at 0x7f3783e07430>,\n",
       " 'topological_sort': [0, 2, 6, 5, 1, 4, 3, 7],\n",
       " 'makespan': 5.237455050822116}"
      ]
     },
     "execution_count": 4,
     "metadata": {},
     "output_type": "execute_result"
    }
   ],
   "source": [
    "# Each datapoint is a dictionary with the following keys\n",
    "#   instance_id: each pair of (task_graph, network) is a unique instance\n",
    "#   task_graph: the task graph\n",
    "#   network: the network\n",
    "#   topolocial_sort: the topological sort of the task graph used for scheduling\n",
    "#   makespan: makespan of the task graph on the network (using the HEFT scheduler) \n",
    "data[0]"
   ]
  },
  {
   "cell_type": "code",
   "execution_count": 24,
   "metadata": {},
   "outputs": [
    {
     "data": {
      "text/html": [
       "<div>\n",
       "<style scoped>\n",
       "    .dataframe tbody tr th:only-of-type {\n",
       "        vertical-align: middle;\n",
       "    }\n",
       "\n",
       "    .dataframe tbody tr th {\n",
       "        vertical-align: top;\n",
       "    }\n",
       "\n",
       "    .dataframe thead th {\n",
       "        text-align: right;\n",
       "    }\n",
       "</style>\n",
       "<table border=\"1\" class=\"dataframe\">\n",
       "  <thead>\n",
       "    <tr style=\"text-align: right;\">\n",
       "      <th></th>\n",
       "      <th>instance</th>\n",
       "      <th>topological_sort</th>\n",
       "      <th>makespan</th>\n",
       "    </tr>\n",
       "  </thead>\n",
       "  <tbody>\n",
       "    <tr>\n",
       "      <th>0</th>\n",
       "      <td>0</td>\n",
       "      <td>[0, 2, 6, 5, 1, 4, 3, 7]</td>\n",
       "      <td>5.237455</td>\n",
       "    </tr>\n",
       "    <tr>\n",
       "      <th>1</th>\n",
       "      <td>0</td>\n",
       "      <td>[0, 2, 6, 5, 1, 3, 4, 7]</td>\n",
       "      <td>5.786633</td>\n",
       "    </tr>\n",
       "    <tr>\n",
       "      <th>2</th>\n",
       "      <td>0</td>\n",
       "      <td>[0, 2, 6, 1, 4, 3, 5, 7]</td>\n",
       "      <td>5.237455</td>\n",
       "    </tr>\n",
       "    <tr>\n",
       "      <th>3</th>\n",
       "      <td>0</td>\n",
       "      <td>[0, 2, 6, 1, 4, 5, 3, 7]</td>\n",
       "      <td>5.237455</td>\n",
       "    </tr>\n",
       "    <tr>\n",
       "      <th>4</th>\n",
       "      <td>0</td>\n",
       "      <td>[0, 2, 6, 1, 3, 5, 4, 7]</td>\n",
       "      <td>5.786633</td>\n",
       "    </tr>\n",
       "  </tbody>\n",
       "</table>\n",
       "</div>"
      ],
      "text/plain": [
       "   instance          topological_sort  makespan\n",
       "0         0  [0, 2, 6, 5, 1, 4, 3, 7]  5.237455\n",
       "1         0  [0, 2, 6, 5, 1, 3, 4, 7]  5.786633\n",
       "2         0  [0, 2, 6, 1, 4, 3, 5, 7]  5.237455\n",
       "3         0  [0, 2, 6, 1, 4, 5, 3, 7]  5.237455\n",
       "4         0  [0, 2, 6, 1, 3, 5, 4, 7]  5.786633"
      ]
     },
     "execution_count": 24,
     "metadata": {},
     "output_type": "execute_result"
    }
   ],
   "source": [
    "cols = [\"instance\", \"topological_sort\", \"makespan\"]\n",
    "df = pd.DataFrame({k: [d[k] for d in data] for k in cols})\n",
    "df.head()"
   ]
  },
  {
   "cell_type": "code",
   "execution_count": 26,
   "metadata": {},
   "outputs": [
    {
     "data": {
      "text/html": [
       "<div>\n",
       "<style scoped>\n",
       "    .dataframe tbody tr th:only-of-type {\n",
       "        vertical-align: middle;\n",
       "    }\n",
       "\n",
       "    .dataframe tbody tr th {\n",
       "        vertical-align: top;\n",
       "    }\n",
       "\n",
       "    .dataframe thead th {\n",
       "        text-align: right;\n",
       "    }\n",
       "</style>\n",
       "<table border=\"1\" class=\"dataframe\">\n",
       "  <thead>\n",
       "    <tr style=\"text-align: right;\">\n",
       "      <th></th>\n",
       "      <th>instance</th>\n",
       "      <th>topological_sort</th>\n",
       "      <th>makespan</th>\n",
       "    </tr>\n",
       "  </thead>\n",
       "  <tbody>\n",
       "    <tr>\n",
       "      <th>0</th>\n",
       "      <td>0</td>\n",
       "      <td>[0, 2, 6, 5, 1, 4, 3, 7]</td>\n",
       "      <td>5.237455</td>\n",
       "    </tr>\n",
       "    <tr>\n",
       "      <th>148</th>\n",
       "      <td>1</td>\n",
       "      <td>[0, 1, 2, 4, 3, 6, 5, 7]</td>\n",
       "      <td>4.006290</td>\n",
       "    </tr>\n",
       "    <tr>\n",
       "      <th>201</th>\n",
       "      <td>2</td>\n",
       "      <td>[0, 1, 4, 3, 2, 5, 6, 7]</td>\n",
       "      <td>4.197011</td>\n",
       "    </tr>\n",
       "    <tr>\n",
       "      <th>296</th>\n",
       "      <td>3</td>\n",
       "      <td>[0, 1, 2, 6, 5, 4, 3, 7]</td>\n",
       "      <td>2.965933</td>\n",
       "    </tr>\n",
       "    <tr>\n",
       "      <th>320</th>\n",
       "      <td>4</td>\n",
       "      <td>[0, 2, 6, 5, 1, 4, 3, 7]</td>\n",
       "      <td>3.986777</td>\n",
       "    </tr>\n",
       "  </tbody>\n",
       "</table>\n",
       "</div>"
      ],
      "text/plain": [
       "     instance          topological_sort  makespan\n",
       "0           0  [0, 2, 6, 5, 1, 4, 3, 7]  5.237455\n",
       "148         1  [0, 1, 2, 4, 3, 6, 5, 7]  4.006290\n",
       "201         2  [0, 1, 4, 3, 2, 5, 6, 7]  4.197011\n",
       "296         3  [0, 1, 2, 6, 5, 4, 3, 7]  2.965933\n",
       "320         4  [0, 2, 6, 5, 1, 4, 3, 7]  3.986777"
      ]
     },
     "execution_count": 26,
     "metadata": {},
     "output_type": "execute_result"
    }
   ],
   "source": [
    "# keep only topological_sort with lowest makespan\n",
    "df_best = df.loc[df.groupby(by=[\"instance\"])['makespan'].idxmin()]\n",
    "df_best.head()"
   ]
  }
 ],
 "metadata": {
  "kernelspec": {
   "display_name": "saga",
   "language": "python",
   "name": "python3"
  },
  "language_info": {
   "codemirror_mode": {
    "name": "ipython",
    "version": 3
   },
   "file_extension": ".py",
   "mimetype": "text/x-python",
   "name": "python",
   "nbconvert_exporter": "python",
   "pygments_lexer": "ipython3",
   "version": "3.10.13"
  }
 },
 "nbformat": 4,
 "nbformat_minor": 2
}
