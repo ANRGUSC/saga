{
 "cells": [
  {
   "cell_type": "code",
   "execution_count": 1,
   "metadata": {},
   "outputs": [
    {
     "name": "stdout",
     "output_type": "stream",
     "text": [
      "Generating dataset...\n",
      "Progress: 100.00%          \n",
      "Loading dataset...\n"
     ]
    }
   ],
   "source": [
    "import pandas as pd\n",
    "\n",
    "from saga.experiment.ml import load_dataset\n",
    "\n",
    "data = load_dataset(\n",
    "    cache=True,\n",
    "    task_graph_levels=3,\n",
    "    task_graph_branching_factor=2,\n",
    "    network_nodes=5,\n",
    "    num_instances=1000\n",
    ")"
   ]
  },
  {
   "cell_type": "code",
   "execution_count": 2,
   "metadata": {},
   "outputs": [
    {
     "data": {
      "text/plain": [
       "{'instance': 0,\n",
       " 'task_graph': <networkx.classes.digraph.DiGraph at 0x7fb0229ef7c0>,\n",
       " 'network': <networkx.classes.graph.Graph at 0x7fb023e4f280>,\n",
       " 'topological_sort': [0, 2, 6, 5, 1, 4, 3, 7],\n",
       " 'makespan': 3.6102616089254136}"
      ]
     },
     "execution_count": 2,
     "metadata": {},
     "output_type": "execute_result"
    }
   ],
   "source": [
    "# Each datapoint is a dictionary with the following keys\n",
    "#   instance_id: each pair of (task_graph, network) is a unique instance\n",
    "#   task_graph: the task graph\n",
    "#   network: the network\n",
    "#   topolocial_sort: the topological sort of the task graph used for scheduling\n",
    "#   makespan: makespan of the task graph on the network (using the HEFT scheduler) \n",
    "data[0]"
   ]
  },
  {
   "cell_type": "code",
   "execution_count": 3,
   "metadata": {},
   "outputs": [
    {
     "data": {
      "text/html": [
       "<div>\n",
       "<style scoped>\n",
       "    .dataframe tbody tr th:only-of-type {\n",
       "        vertical-align: middle;\n",
       "    }\n",
       "\n",
       "    .dataframe tbody tr th {\n",
       "        vertical-align: top;\n",
       "    }\n",
       "\n",
       "    .dataframe thead th {\n",
       "        text-align: right;\n",
       "    }\n",
       "</style>\n",
       "<table border=\"1\" class=\"dataframe\">\n",
       "  <thead>\n",
       "    <tr style=\"text-align: right;\">\n",
       "      <th></th>\n",
       "      <th>instance</th>\n",
       "      <th>topological_sort</th>\n",
       "      <th>makespan</th>\n",
       "    </tr>\n",
       "  </thead>\n",
       "  <tbody>\n",
       "    <tr>\n",
       "      <th>0</th>\n",
       "      <td>0</td>\n",
       "      <td>[0, 2, 6, 5, 1, 4, 3, 7]</td>\n",
       "      <td>3.610262</td>\n",
       "    </tr>\n",
       "    <tr>\n",
       "      <th>1</th>\n",
       "      <td>0</td>\n",
       "      <td>[0, 2, 6, 5, 1, 3, 4, 7]</td>\n",
       "      <td>3.156220</td>\n",
       "    </tr>\n",
       "    <tr>\n",
       "      <th>2</th>\n",
       "      <td>0</td>\n",
       "      <td>[0, 2, 6, 1, 4, 3, 5, 7]</td>\n",
       "      <td>3.169518</td>\n",
       "    </tr>\n",
       "    <tr>\n",
       "      <th>3</th>\n",
       "      <td>0</td>\n",
       "      <td>[0, 2, 6, 1, 4, 5, 3, 7]</td>\n",
       "      <td>3.405217</td>\n",
       "    </tr>\n",
       "    <tr>\n",
       "      <th>4</th>\n",
       "      <td>0</td>\n",
       "      <td>[0, 2, 6, 1, 3, 5, 4, 7]</td>\n",
       "      <td>3.121260</td>\n",
       "    </tr>\n",
       "  </tbody>\n",
       "</table>\n",
       "</div>"
      ],
      "text/plain": [
       "   instance          topological_sort  makespan\n",
       "0         0  [0, 2, 6, 5, 1, 4, 3, 7]  3.610262\n",
       "1         0  [0, 2, 6, 5, 1, 3, 4, 7]  3.156220\n",
       "2         0  [0, 2, 6, 1, 4, 3, 5, 7]  3.169518\n",
       "3         0  [0, 2, 6, 1, 4, 5, 3, 7]  3.405217\n",
       "4         0  [0, 2, 6, 1, 3, 5, 4, 7]  3.121260"
      ]
     },
     "execution_count": 3,
     "metadata": {},
     "output_type": "execute_result"
    }
   ],
   "source": [
    "cols = [\"instance\", \"topological_sort\", \"makespan\"]\n",
    "df = pd.DataFrame({k: [d[k] for d in data] for k in cols})\n",
    "df.head()"
   ]
  },
  {
   "cell_type": "code",
   "execution_count": 4,
   "metadata": {},
   "outputs": [
    {
     "data": {
      "text/html": [
       "<div>\n",
       "<style scoped>\n",
       "    .dataframe tbody tr th:only-of-type {\n",
       "        vertical-align: middle;\n",
       "    }\n",
       "\n",
       "    .dataframe tbody tr th {\n",
       "        vertical-align: top;\n",
       "    }\n",
       "\n",
       "    .dataframe thead th {\n",
       "        text-align: right;\n",
       "    }\n",
       "</style>\n",
       "<table border=\"1\" class=\"dataframe\">\n",
       "  <thead>\n",
       "    <tr style=\"text-align: right;\">\n",
       "      <th></th>\n",
       "      <th>instance</th>\n",
       "      <th>topological_sort</th>\n",
       "      <th>makespan</th>\n",
       "    </tr>\n",
       "  </thead>\n",
       "  <tbody>\n",
       "    <tr>\n",
       "      <th>56</th>\n",
       "      <td>0</td>\n",
       "      <td>[0, 1, 2, 6, 5, 4, 3, 7]</td>\n",
       "      <td>2.976237</td>\n",
       "    </tr>\n",
       "    <tr>\n",
       "      <th>80</th>\n",
       "      <td>1</td>\n",
       "      <td>[0, 2, 6, 5, 1, 4, 3, 7]</td>\n",
       "      <td>5.185296</td>\n",
       "    </tr>\n",
       "    <tr>\n",
       "      <th>176</th>\n",
       "      <td>2</td>\n",
       "      <td>[0, 2, 1, 4, 3, 6, 5, 7]</td>\n",
       "      <td>3.425836</td>\n",
       "    </tr>\n",
       "    <tr>\n",
       "      <th>248</th>\n",
       "      <td>3</td>\n",
       "      <td>[0, 2, 5, 1, 4, 3, 6, 7]</td>\n",
       "      <td>4.542070</td>\n",
       "    </tr>\n",
       "    <tr>\n",
       "      <th>352</th>\n",
       "      <td>4</td>\n",
       "      <td>[0, 2, 1, 6, 3, 5, 4, 7]</td>\n",
       "      <td>2.941437</td>\n",
       "    </tr>\n",
       "  </tbody>\n",
       "</table>\n",
       "</div>"
      ],
      "text/plain": [
       "     instance          topological_sort  makespan\n",
       "56          0  [0, 1, 2, 6, 5, 4, 3, 7]  2.976237\n",
       "80          1  [0, 2, 6, 5, 1, 4, 3, 7]  5.185296\n",
       "176         2  [0, 2, 1, 4, 3, 6, 5, 7]  3.425836\n",
       "248         3  [0, 2, 5, 1, 4, 3, 6, 7]  4.542070\n",
       "352         4  [0, 2, 1, 6, 3, 5, 4, 7]  2.941437"
      ]
     },
     "execution_count": 4,
     "metadata": {},
     "output_type": "execute_result"
    }
   ],
   "source": [
    "# keep only topological_sort with lowest makespan\n",
    "df_best = df.loc[df.groupby(by=[\"instance\"])['makespan'].idxmin()]\n",
    "df_best.head()"
   ]
  }
 ],
 "metadata": {
  "kernelspec": {
   "display_name": "saga",
   "language": "python",
   "name": "python3"
  },
  "language_info": {
   "codemirror_mode": {
    "name": "ipython",
    "version": 3
   },
   "file_extension": ".py",
   "mimetype": "text/x-python",
   "name": "python",
   "nbconvert_exporter": "python",
   "pygments_lexer": "ipython3",
   "version": "3.10.13"
  }
 },
 "nbformat": 4,
 "nbformat_minor": 2
}
