{
 "cells": [
  {
   "cell_type": "code",
   "execution_count": 1,
   "metadata": {},
   "outputs": [
    {
     "name": "stdout",
     "output_type": "stream",
     "text": [
      "Available Recipes: \n",
      "- epigenomics\n",
      "- montage\n",
      "- cycles\n",
      "- seismology\n",
      "- soykb\n",
      "- srasearch\n",
      "- genome\n",
      "- blast\n",
      "- bwa\n"
     ]
    }
   ],
   "source": [
    "from saga.schedulers.data.wfcommons import get_networks, get_workflows, recipes\n",
    "from typing import List, Tuple\n",
    "from networkx import DiGraph, Graph\n",
    "\n",
    "print(\"Available Recipes: \\n- \" + '\\n- '.join(recipes))"
   ]
  },
  {
   "cell_type": "code",
   "execution_count": 8,
   "metadata": {},
   "outputs": [
    {
     "name": "stderr",
     "output_type": "stream",
     "text": [
      "/home/jared/miniconda3/envs/saga/lib/python3.10/site-packages/scipy/stats/_continuous_distns.py:718: RuntimeWarning: invalid value encountered in sqrt\n",
      "  sk = 2*(b-a)*np.sqrt(a + b + 1) / (a + b + 2) / np.sqrt(a*b)\n"
     ]
    },
    {
     "name": "stdout",
     "output_type": "stream",
     "text": [
      "Workflow Sizes: [241, 241, 241, 241]\n",
      "Median Node Weight: [142.12, 129.658, 168.484, 183.318]\n"
     ]
    }
   ],
   "source": [
    "import numpy as np\n",
    "\n",
    "\n",
    "def get_problem_instances(recipe_name: str, num: int, task_graph_vary_weights_only: bool = False) -> List[Tuple[Graph, DiGraph]]:\n",
    "    networks = get_networks(\n",
    "        num=num,\n",
    "        cloud_name=\"chameleon\", # this is the only cloud right now\n",
    "        network_speed=100\n",
    "    )\n",
    "\n",
    "    workflows = get_workflows(num=num, recipe_name=recipe_name, vary_weights_only=task_graph_vary_weights_only)\n",
    "    return list(zip(networks, workflows))\n",
    "\n",
    "\n",
    "workflows = get_problem_instances(\"soykb\", 4, task_graph_vary_weights_only=True)\n",
    "print(f\"Workflow Sizes: {[len(w.nodes) for _, w in workflows]}\")\n",
    "min_node_weights = [\n",
    "    np.median([w.nodes[node][\"weight\"] for node in w.nodes]) for _, w in workflows\n",
    "]\n",
    "print(f\"Median Node Weight: {min_node_weights}\")\n",
    "\n",
    "workflows_2 = get_problem_instances(\"soykb\", 4, task_graph_vary_weights_only=False)\n",
    "print(f\"Workflow Sizes: {[len(w.nodes) for _, w in workflows_2]}\")\n",
    "min_node_weights = [\n",
    "    np.median([w.nodes[node][\"weight\"] for node in w.nodes]) for _, w in workflows_2\n",
    "]\n",
    "print(f\"Median Node Weight: {min_node_weights}\")"
   ]
  },
  {
   "cell_type": "code",
   "execution_count": null,
   "metadata": {},
   "outputs": [],
   "source": []
  }
 ],
 "metadata": {
  "kernelspec": {
   "display_name": "saga",
   "language": "python",
   "name": "python3"
  },
  "language_info": {
   "codemirror_mode": {
    "name": "ipython",
    "version": 3
   },
   "file_extension": ".py",
   "mimetype": "text/x-python",
   "name": "python",
   "nbconvert_exporter": "python",
   "pygments_lexer": "ipython3",
   "version": "3.10.13"
  }
 },
 "nbformat": 4,
 "nbformat_minor": 2
}
