{
 "cells": [
  {
   "cell_type": "code",
   "execution_count": 5,
   "metadata": {},
   "outputs": [
    {
     "name": "stdout",
     "output_type": "stream",
     "text": [
      "Requirement already satisfied: ipywidgets==8.1.2 in /home/jared/miniconda3/envs/saga/lib/python3.10/site-packages (8.1.2)\n",
      "Requirement already satisfied: comm>=0.1.3 in /home/jared/miniconda3/envs/saga/lib/python3.10/site-packages (from ipywidgets==8.1.2) (0.2.2)\n",
      "Requirement already satisfied: ipython>=6.1.0 in /home/jared/miniconda3/envs/saga/lib/python3.10/site-packages (from ipywidgets==8.1.2) (8.22.2)\n",
      "Requirement already satisfied: traitlets>=4.3.1 in /home/jared/miniconda3/envs/saga/lib/python3.10/site-packages (from ipywidgets==8.1.2) (5.14.2)\n",
      "Requirement already satisfied: widgetsnbextension~=4.0.10 in /home/jared/miniconda3/envs/saga/lib/python3.10/site-packages (from ipywidgets==8.1.2) (4.0.10)\n",
      "Requirement already satisfied: jupyterlab-widgets~=3.0.10 in /home/jared/miniconda3/envs/saga/lib/python3.10/site-packages (from ipywidgets==8.1.2) (3.0.10)\n",
      "Requirement already satisfied: decorator in /home/jared/miniconda3/envs/saga/lib/python3.10/site-packages (from ipython>=6.1.0->ipywidgets==8.1.2) (5.1.1)\n",
      "Requirement already satisfied: jedi>=0.16 in /home/jared/miniconda3/envs/saga/lib/python3.10/site-packages (from ipython>=6.1.0->ipywidgets==8.1.2) (0.19.1)\n",
      "Requirement already satisfied: matplotlib-inline in /home/jared/miniconda3/envs/saga/lib/python3.10/site-packages (from ipython>=6.1.0->ipywidgets==8.1.2) (0.1.6)\n",
      "Requirement already satisfied: prompt-toolkit<3.1.0,>=3.0.41 in /home/jared/miniconda3/envs/saga/lib/python3.10/site-packages (from ipython>=6.1.0->ipywidgets==8.1.2) (3.0.42)\n",
      "Requirement already satisfied: pygments>=2.4.0 in /home/jared/miniconda3/envs/saga/lib/python3.10/site-packages (from ipython>=6.1.0->ipywidgets==8.1.2) (2.17.2)\n",
      "Requirement already satisfied: stack-data in /home/jared/miniconda3/envs/saga/lib/python3.10/site-packages (from ipython>=6.1.0->ipywidgets==8.1.2) (0.6.2)\n",
      "Requirement already satisfied: exceptiongroup in /home/jared/miniconda3/envs/saga/lib/python3.10/site-packages (from ipython>=6.1.0->ipywidgets==8.1.2) (1.2.0)\n",
      "Requirement already satisfied: pexpect>4.3 in /home/jared/miniconda3/envs/saga/lib/python3.10/site-packages (from ipython>=6.1.0->ipywidgets==8.1.2) (4.9.0)\n",
      "Requirement already satisfied: parso<0.9.0,>=0.8.3 in /home/jared/miniconda3/envs/saga/lib/python3.10/site-packages (from jedi>=0.16->ipython>=6.1.0->ipywidgets==8.1.2) (0.8.4)\n",
      "Requirement already satisfied: ptyprocess>=0.5 in /home/jared/miniconda3/envs/saga/lib/python3.10/site-packages (from pexpect>4.3->ipython>=6.1.0->ipywidgets==8.1.2) (0.7.0)\n",
      "Requirement already satisfied: wcwidth in /home/jared/miniconda3/envs/saga/lib/python3.10/site-packages (from prompt-toolkit<3.1.0,>=3.0.41->ipython>=6.1.0->ipywidgets==8.1.2) (0.2.13)\n",
      "Requirement already satisfied: executing>=1.2.0 in /home/jared/miniconda3/envs/saga/lib/python3.10/site-packages (from stack-data->ipython>=6.1.0->ipywidgets==8.1.2) (2.0.1)\n",
      "Requirement already satisfied: asttokens>=2.1.0 in /home/jared/miniconda3/envs/saga/lib/python3.10/site-packages (from stack-data->ipython>=6.1.0->ipywidgets==8.1.2) (2.4.1)\n",
      "Requirement already satisfied: pure-eval in /home/jared/miniconda3/envs/saga/lib/python3.10/site-packages (from stack-data->ipython>=6.1.0->ipywidgets==8.1.2) (0.2.2)\n",
      "Requirement already satisfied: six>=1.12.0 in /home/jared/miniconda3/envs/saga/lib/python3.10/site-packages (from asttokens>=2.1.0->stack-data->ipython>=6.1.0->ipywidgets==8.1.2) (1.16.0)\n"
     ]
    }
   ],
   "source": [
    "!pip install ipywidgets==8.1.2"
   ]
  },
  {
   "cell_type": "code",
   "execution_count": null,
   "metadata": {},
   "outputs": [],
   "source": [
    "from saga.experiment.benchmarking.parametric import ParametricExperiment\n",
    "import logging\n",
    "import random\n",
    "import numpy as np\n",
    "import matplotlib.pyplot as plt\n",
    "import ipywidgets as widgets\n",
    "from datetime import datetime, timedelta\n",
    "from IPython.display import display\n",
    "\n",
    "%matplotlib inline\n",
    "\n",
    "# Set random seed for reproducibility\n",
    "random.seed(0)\n",
    "np.random.seed(0)\n",
    "\n",
    "logging.basicConfig(level=logging.WARNING)"
   ]
  },
  {
   "cell_type": "code",
   "execution_count": null,
   "metadata": {},
   "outputs": [],
   "source": [
    "# Step 1: Define the experiment\n",
    "experiment = ParametricExperiment(trim=100) # trim to 100 instances per dataset"
   ]
  },
  {
   "cell_type": "code",
   "execution_count": null,
   "metadata": {},
   "outputs": [],
   "source": [
    "# Step 2: Prepare the datasets for the experiment\n",
    "experiment.prepare(download_url=\"https://zenodo.org/records/10967223/files/dataset.zip?download=1\")"
   ]
  },
  {
   "cell_type": "code",
   "execution_count": null,
   "metadata": {},
   "outputs": [],
   "source": [
    "import ipywidgets as widgets\n",
    "from datetime import datetime, timedelta\n",
    "from IPython.display import display\n",
    "\n",
    "# Create output widget\n",
    "out = widgets.Output(layout={'border': '1px solid black'})\n",
    "\n",
    "# Display the output widget\n",
    "display(out)\n",
    "\n",
    "total_evals = 144000  # Total evaluations\n",
    "completed_evals = 0   # Initial completed evaluations\n",
    "start_time = datetime.now()  # Start time of the experiment\n",
    "last_update_percent = -100 # Last update percentage\n",
    "def print_progress(*args, **kwargs):\n",
    "    global completed_evals, total_evals, start_time, last_update_percent\n",
    "    completed_evals += 1  # Increment the count of completed evaluations\n",
    "    percent_complete = completed_evals / total_evals  # Calculate percentage completion\n",
    "\n",
    "    if last_update_percent + 0.001 <= percent_complete:  # Update progress if more than 1% progress has been made\n",
    "        now = datetime.now()  # Current time\n",
    "        elapsed_time = (now - start_time).total_seconds()  # Elapsed time in seconds\n",
    "        if percent_complete > 0:\n",
    "            estimated_completion_time = start_time + timedelta(seconds=elapsed_time / percent_complete)  # Estimated completion time\n",
    "        else:\n",
    "            estimated_completion_time = now + timedelta(hours=1)  # Default to 1 hour more if percent_complete is 0\n",
    "        \n",
    "        estimated_completion_time_str = estimated_completion_time.strftime(\"%Y-%m-%d %H:%M:%S\")  # Format completion time\n",
    "        \n",
    "        # Generate progress report\n",
    "        prog_report = {\n",
    "            \"progress\": f\"{percent_complete * 100:.2f}%\",\n",
    "            \"elapsed time\": str(timedelta(seconds=elapsed_time)),\n",
    "            \"estimated remaining time\": str(timedelta(seconds=elapsed_time / percent_complete - elapsed_time)) if percent_complete > 0 else \"calculating...\",\n",
    "            \"current time\": now.strftime(\"%Y-%m-%d %H:%M:%S\"),\n",
    "            \"estimated completion time\": estimated_completion_time_str\n",
    "        }\n",
    "        prog_report_str = \"\\n\".join([f\"{k}: {v}\" for k, v in prog_report.items()])  # Create a string of the progress report\n",
    "        \n",
    "        # Print the progress inside the output widget\n",
    "        # if more than a second has passed since the last update\n",
    "        with out:\n",
    "            out.clear_output(wait=True)  # Clear the previous output and wait for new output\n",
    "            print(prog_report_str)  # Print new progress report\n",
    "\n",
    "        last_update_percent = percent_complete  # Update the last update percentage\n",
    "\n",
    "# Assume `experiment.run(progress_callback=print_progress)` initiates the task and calls `print_progress` regularly.\n",
    "experiment.run(progress_callback=print_progress)  # Run the experiment"
   ]
  },
  {
   "cell_type": "code",
   "execution_count": null,
   "metadata": {},
   "outputs": [],
   "source": [
    "# Step 4: Analyze the results\n",
    "experiment.analyze(\n",
    "    filetype=\"png\",\n",
    "    showfliers=False,\n",
    "    do_pareto_plots=True,\n",
    "    do_main_effect_plots=False,\n",
    "    do_dataset_plots=False,\n",
    "    do_interaction_plots=False\n",
    ")"
   ]
  },
  {
   "cell_type": "code",
   "execution_count": null,
   "metadata": {},
   "outputs": [],
   "source": [
    "pareto_scatter_path = experiment.outputdir / \"pareto_scatter.png\"\n",
    "img = plt.imread(pareto_scatter_path)\n",
    "img_plot = plt.imshow(img)\n",
    "plt.axis(\"off\")\n",
    "plt.show()\n",
    "\n",
    "pareto_chart_path = experiment.outputdir / \"pareto_chart.png\"\n",
    "img = plt.imread(pareto_chart_path)\n",
    "img_plot = plt.imshow(img)\n",
    "plt.axis(\"off\")\n",
    "plt.show()"
   ]
  },
  {
   "cell_type": "markdown",
   "metadata": {},
   "source": [
    "# Generate All Plots\n",
    "Generate all other plots and see the results in the output directory."
   ]
  },
  {
   "cell_type": "code",
   "execution_count": null,
   "metadata": {},
   "outputs": [],
   "source": [
    "experiment.analyze(\n",
    "    filetype=\"png\",\n",
    "    showfliers=False,\n",
    "    do_pareto_plots=True,\n",
    "    do_main_effect_plots=True,\n",
    "    do_dataset_plots=True,\n",
    "    do_interaction_plots=True\n",
    ")"
   ]
  }
 ],
 "metadata": {
  "kernelspec": {
   "display_name": "saga",
   "language": "python",
   "name": "python3"
  },
  "language_info": {
   "codemirror_mode": {
    "name": "ipython",
    "version": 3
   },
   "file_extension": ".py",
   "mimetype": "text/x-python",
   "name": "python",
   "nbconvert_exporter": "python",
   "pygments_lexer": "ipython3",
   "version": "3.10.13"
  }
 },
 "nbformat": 4,
 "nbformat_minor": 2
}
